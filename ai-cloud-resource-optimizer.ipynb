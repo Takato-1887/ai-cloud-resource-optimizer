{
 "cells": [
  {
   "cell_type": "code",
   "execution_count": 1,
   "id": "cb7851db-93a4-440a-bb6a-4b0a39c2da67",
   "metadata": {},
   "outputs": [
    {
     "name": "stderr",
     "output_type": "stream",
     "text": [
      "/home/ec2-user/anaconda3/envs/tensorflow2_p310/lib/python3.10/site-packages/pandas/core/computation/expressions.py:21: UserWarning: Pandas requires version '2.8.4' or newer of 'numexpr' (version '2.7.3' currently installed).\n",
      "  from pandas.core.computation.check import NUMEXPR_INSTALLED\n"
     ]
    }
   ],
   "source": [
    "import boto3\n",
    "import pandas as pd\n",
    "from io import StringIO\n"
   ]
  },
  {
   "cell_type": "code",
   "execution_count": 2,
   "id": "5d63ee4f-b239-42e4-a287-5e0747b98a7c",
   "metadata": {},
   "outputs": [],
   "source": [
    "import warnings\n",
    "warnings.filterwarnings('ignore')"
   ]
  },
  {
   "cell_type": "code",
   "execution_count": 3,
   "id": "7e4ad9e3-da73-44f2-a994-3a2a361e82ad",
   "metadata": {},
   "outputs": [
    {
     "data": {
      "text/html": [
       "<div>\n",
       "<style scoped>\n",
       "    .dataframe tbody tr th:only-of-type {\n",
       "        vertical-align: middle;\n",
       "    }\n",
       "\n",
       "    .dataframe tbody tr th {\n",
       "        vertical-align: top;\n",
       "    }\n",
       "\n",
       "    .dataframe thead th {\n",
       "        text-align: right;\n",
       "    }\n",
       "</style>\n",
       "<table border=\"1\" class=\"dataframe\">\n",
       "  <thead>\n",
       "    <tr style=\"text-align: right;\">\n",
       "      <th></th>\n",
       "      <th>Unnamed: 0</th>\n",
       "      <th>time</th>\n",
       "      <th>instance_events_type</th>\n",
       "      <th>collection_id</th>\n",
       "      <th>scheduling_class</th>\n",
       "      <th>collection_type</th>\n",
       "      <th>priority</th>\n",
       "      <th>alloc_collection_id</th>\n",
       "      <th>instance_index</th>\n",
       "      <th>machine_id</th>\n",
       "      <th>...</th>\n",
       "      <th>assigned_memory</th>\n",
       "      <th>page_cache_memory</th>\n",
       "      <th>cycles_per_instruction</th>\n",
       "      <th>memory_accesses_per_instruction</th>\n",
       "      <th>sample_rate</th>\n",
       "      <th>cpu_usage_distribution</th>\n",
       "      <th>tail_cpu_usage_distribution</th>\n",
       "      <th>cluster</th>\n",
       "      <th>event</th>\n",
       "      <th>failed</th>\n",
       "    </tr>\n",
       "  </thead>\n",
       "  <tbody>\n",
       "    <tr>\n",
       "      <th>0</th>\n",
       "      <td>0</td>\n",
       "      <td>0</td>\n",
       "      <td>2</td>\n",
       "      <td>94591244395</td>\n",
       "      <td>3</td>\n",
       "      <td>1</td>\n",
       "      <td>200</td>\n",
       "      <td>0</td>\n",
       "      <td>144</td>\n",
       "      <td>168846390496</td>\n",
       "      <td>...</td>\n",
       "      <td>0.014435</td>\n",
       "      <td>0.000415</td>\n",
       "      <td>NaN</td>\n",
       "      <td>NaN</td>\n",
       "      <td>1.0</td>\n",
       "      <td>[0.00314331 0.00381088 0.00401306 0.00415039 0...</td>\n",
       "      <td>[0.00535583 0.00541687 0.00548553 0.00554657 0...</td>\n",
       "      <td>7</td>\n",
       "      <td>FAIL</td>\n",
       "      <td>1</td>\n",
       "    </tr>\n",
       "    <tr>\n",
       "      <th>1</th>\n",
       "      <td>1</td>\n",
       "      <td>2517305308183</td>\n",
       "      <td>2</td>\n",
       "      <td>260697606809</td>\n",
       "      <td>2</td>\n",
       "      <td>0</td>\n",
       "      <td>360</td>\n",
       "      <td>221495397286</td>\n",
       "      <td>335</td>\n",
       "      <td>85515092</td>\n",
       "      <td>...</td>\n",
       "      <td>0.000000</td>\n",
       "      <td>0.000000</td>\n",
       "      <td>NaN</td>\n",
       "      <td>NaN</td>\n",
       "      <td>1.0</td>\n",
       "      <td>[1.23977661e-05 1.23977661e-05 1.23977661e-05 ...</td>\n",
       "      <td>[1.23977661e-05 1.23977661e-05 1.23977661e-05 ...</td>\n",
       "      <td>7</td>\n",
       "      <td>FAIL</td>\n",
       "      <td>1</td>\n",
       "    </tr>\n",
       "    <tr>\n",
       "      <th>2</th>\n",
       "      <td>2</td>\n",
       "      <td>195684022913</td>\n",
       "      <td>6</td>\n",
       "      <td>276227177776</td>\n",
       "      <td>2</td>\n",
       "      <td>0</td>\n",
       "      <td>103</td>\n",
       "      <td>0</td>\n",
       "      <td>376</td>\n",
       "      <td>169321752432</td>\n",
       "      <td>...</td>\n",
       "      <td>0.010422</td>\n",
       "      <td>0.000235</td>\n",
       "      <td>0.939919</td>\n",
       "      <td>0.001318</td>\n",
       "      <td>1.0</td>\n",
       "      <td>[0.01344299 0.01809692 0.0201416  0.02246094 0...</td>\n",
       "      <td>[0.02902222 0.02929688 0.0295105  0.0296936  0...</td>\n",
       "      <td>7</td>\n",
       "      <td>SCHEDULE</td>\n",
       "      <td>0</td>\n",
       "    </tr>\n",
       "    <tr>\n",
       "      <th>3</th>\n",
       "      <td>3</td>\n",
       "      <td>0</td>\n",
       "      <td>2</td>\n",
       "      <td>10507389885</td>\n",
       "      <td>3</td>\n",
       "      <td>0</td>\n",
       "      <td>200</td>\n",
       "      <td>0</td>\n",
       "      <td>1977</td>\n",
       "      <td>178294817221</td>\n",
       "      <td>...</td>\n",
       "      <td>0.041626</td>\n",
       "      <td>0.000225</td>\n",
       "      <td>1.359102</td>\n",
       "      <td>0.007643</td>\n",
       "      <td>1.0</td>\n",
       "      <td>[0.03704834 0.04125977 0.04290771 0.04425049 0...</td>\n",
       "      <td>[0.05535889 0.05584717 0.05633545 0.05718994 0...</td>\n",
       "      <td>8</td>\n",
       "      <td>FAIL</td>\n",
       "      <td>1</td>\n",
       "    </tr>\n",
       "    <tr>\n",
       "      <th>4</th>\n",
       "      <td>4</td>\n",
       "      <td>1810627494172</td>\n",
       "      <td>3</td>\n",
       "      <td>25911621841</td>\n",
       "      <td>2</td>\n",
       "      <td>0</td>\n",
       "      <td>0</td>\n",
       "      <td>0</td>\n",
       "      <td>3907</td>\n",
       "      <td>231364893292</td>\n",
       "      <td>...</td>\n",
       "      <td>0.000272</td>\n",
       "      <td>0.000010</td>\n",
       "      <td>NaN</td>\n",
       "      <td>NaN</td>\n",
       "      <td>1.0</td>\n",
       "      <td>[0.         0.         0.         0.         0...</td>\n",
       "      <td>[0.00041485 0.00041485 0.00041485 0.00041485 0...</td>\n",
       "      <td>2</td>\n",
       "      <td>FINISH</td>\n",
       "      <td>0</td>\n",
       "    </tr>\n",
       "  </tbody>\n",
       "</table>\n",
       "<p>5 rows × 34 columns</p>\n",
       "</div>"
      ],
      "text/plain": [
       "   Unnamed: 0           time  instance_events_type  collection_id  \\\n",
       "0           0              0                     2    94591244395   \n",
       "1           1  2517305308183                     2   260697606809   \n",
       "2           2   195684022913                     6   276227177776   \n",
       "3           3              0                     2    10507389885   \n",
       "4           4  1810627494172                     3    25911621841   \n",
       "\n",
       "   scheduling_class  collection_type  priority  alloc_collection_id  \\\n",
       "0                 3                1       200                    0   \n",
       "1                 2                0       360         221495397286   \n",
       "2                 2                0       103                    0   \n",
       "3                 3                0       200                    0   \n",
       "4                 2                0         0                    0   \n",
       "\n",
       "   instance_index    machine_id  ... assigned_memory page_cache_memory  \\\n",
       "0             144  168846390496  ...        0.014435          0.000415   \n",
       "1             335      85515092  ...        0.000000          0.000000   \n",
       "2             376  169321752432  ...        0.010422          0.000235   \n",
       "3            1977  178294817221  ...        0.041626          0.000225   \n",
       "4            3907  231364893292  ...        0.000272          0.000010   \n",
       "\n",
       "   cycles_per_instruction memory_accesses_per_instruction sample_rate  \\\n",
       "0                     NaN                             NaN         1.0   \n",
       "1                     NaN                             NaN         1.0   \n",
       "2                0.939919                        0.001318         1.0   \n",
       "3                1.359102                        0.007643         1.0   \n",
       "4                     NaN                             NaN         1.0   \n",
       "\n",
       "                              cpu_usage_distribution  \\\n",
       "0  [0.00314331 0.00381088 0.00401306 0.00415039 0...   \n",
       "1  [1.23977661e-05 1.23977661e-05 1.23977661e-05 ...   \n",
       "2  [0.01344299 0.01809692 0.0201416  0.02246094 0...   \n",
       "3  [0.03704834 0.04125977 0.04290771 0.04425049 0...   \n",
       "4  [0.         0.         0.         0.         0...   \n",
       "\n",
       "                         tail_cpu_usage_distribution  cluster     event  \\\n",
       "0  [0.00535583 0.00541687 0.00548553 0.00554657 0...        7      FAIL   \n",
       "1  [1.23977661e-05 1.23977661e-05 1.23977661e-05 ...        7      FAIL   \n",
       "2  [0.02902222 0.02929688 0.0295105  0.0296936  0...        7  SCHEDULE   \n",
       "3  [0.05535889 0.05584717 0.05633545 0.05718994 0...        8      FAIL   \n",
       "4  [0.00041485 0.00041485 0.00041485 0.00041485 0...        2    FINISH   \n",
       "\n",
       "   failed  \n",
       "0       1  \n",
       "1       1  \n",
       "2       0  \n",
       "3       1  \n",
       "4       0  \n",
       "\n",
       "[5 rows x 34 columns]"
      ]
     },
     "execution_count": 3,
     "metadata": {},
     "output_type": "execute_result"
    }
   ],
   "source": [
    "bucket_name = 'clustertraces'\n",
    "file_key = 'borg_traces_data.csv'\n",
    "\n",
    "# Creating a boto3 client\n",
    "s3 = boto3.client('s3')\n",
    "\n",
    "# Object rtracing\n",
    "response = s3.get_object(Bucket=bucket_name, Key=file_key)\n",
    "\n",
    "# Load CSV\n",
    "csv_content = response['Body'].read().decode('utf-8')\n",
    "\n",
    "# Dataframe declaration\n",
    "df = pd.read_csv(StringIO(csv_content))\n",
    "\n",
    "\n",
    "df.head()"
   ]
  },
  {
   "cell_type": "code",
   "execution_count": 4,
   "id": "a95a03ed-a7d8-45ac-8c51-894e8cfdf222",
   "metadata": {},
   "outputs": [
    {
     "data": {
      "text/plain": [
       "(405894, 34)"
      ]
     },
     "execution_count": 4,
     "metadata": {},
     "output_type": "execute_result"
    }
   ],
   "source": [
    "df.shape"
   ]
  },
  {
   "cell_type": "code",
   "execution_count": 5,
   "id": "2ff95295-abcc-4159-b4ae-e4f503dc851c",
   "metadata": {},
   "outputs": [
    {
     "name": "stdout",
     "output_type": "stream",
     "text": [
      "<class 'pandas.core.frame.DataFrame'>\n",
      "RangeIndex: 405894 entries, 0 to 405893\n",
      "Data columns (total 34 columns):\n",
      " #   Column                           Non-Null Count   Dtype  \n",
      "---  ------                           --------------   -----  \n",
      " 0   Unnamed: 0                       405894 non-null  int64  \n",
      " 1   time                             405894 non-null  int64  \n",
      " 2   instance_events_type             405894 non-null  int64  \n",
      " 3   collection_id                    405894 non-null  int64  \n",
      " 4   scheduling_class                 405894 non-null  int64  \n",
      " 5   collection_type                  405894 non-null  int64  \n",
      " 6   priority                         405894 non-null  int64  \n",
      " 7   alloc_collection_id              405894 non-null  int64  \n",
      " 8   instance_index                   405894 non-null  int64  \n",
      " 9   machine_id                       405894 non-null  int64  \n",
      " 10  resource_request                 405120 non-null  object \n",
      " 11  constraint                       405894 non-null  object \n",
      " 12  collections_events_type          405894 non-null  int64  \n",
      " 13  user                             405894 non-null  object \n",
      " 14  collection_name                  405894 non-null  object \n",
      " 15  collection_logical_name          405894 non-null  object \n",
      " 16  start_after_collection_ids       405894 non-null  object \n",
      " 17  vertical_scaling                 404935 non-null  float64\n",
      " 18  scheduler                        404935 non-null  float64\n",
      " 19  start_time                       405894 non-null  int64  \n",
      " 20  end_time                         405894 non-null  int64  \n",
      " 21  average_usage                    405894 non-null  object \n",
      " 22  maximum_usage                    405894 non-null  object \n",
      " 23  random_sample_usage              405894 non-null  object \n",
      " 24  assigned_memory                  405894 non-null  float64\n",
      " 25  page_cache_memory                405894 non-null  float64\n",
      " 26  cycles_per_instruction           281206 non-null  float64\n",
      " 27  memory_accesses_per_instruction  281206 non-null  float64\n",
      " 28  sample_rate                      405894 non-null  float64\n",
      " 29  cpu_usage_distribution           405894 non-null  object \n",
      " 30  tail_cpu_usage_distribution      405894 non-null  object \n",
      " 31  cluster                          405894 non-null  int64  \n",
      " 32  event                            405894 non-null  object \n",
      " 33  failed                           405894 non-null  int64  \n",
      "dtypes: float64(7), int64(15), object(12)\n",
      "memory usage: 105.3+ MB\n"
     ]
    }
   ],
   "source": [
    "df.info()"
   ]
  },
  {
   "cell_type": "code",
   "execution_count": 6,
   "id": "370e4d4b-3c9b-443f-9ba1-2759c0665055",
   "metadata": {},
   "outputs": [
    {
     "data": {
      "text/plain": [
       "Unnamed: 0                              0\n",
       "time                                    0\n",
       "instance_events_type                    0\n",
       "collection_id                           0\n",
       "scheduling_class                        0\n",
       "collection_type                         0\n",
       "priority                                0\n",
       "alloc_collection_id                     0\n",
       "instance_index                          0\n",
       "machine_id                              0\n",
       "resource_request                      774\n",
       "constraint                              0\n",
       "collections_events_type                 0\n",
       "user                                    0\n",
       "collection_name                         0\n",
       "collection_logical_name                 0\n",
       "start_after_collection_ids              0\n",
       "vertical_scaling                      959\n",
       "scheduler                             959\n",
       "start_time                              0\n",
       "end_time                                0\n",
       "average_usage                           0\n",
       "maximum_usage                           0\n",
       "random_sample_usage                     0\n",
       "assigned_memory                         0\n",
       "page_cache_memory                       0\n",
       "cycles_per_instruction             124688\n",
       "memory_accesses_per_instruction    124688\n",
       "sample_rate                             0\n",
       "cpu_usage_distribution                  0\n",
       "tail_cpu_usage_distribution             0\n",
       "cluster                                 0\n",
       "event                                   0\n",
       "failed                                  0\n",
       "dtype: int64"
      ]
     },
     "execution_count": 6,
     "metadata": {},
     "output_type": "execute_result"
    }
   ],
   "source": [
    "df.isnull().sum()"
   ]
  },
  {
   "cell_type": "markdown",
   "id": "06c0be39-89b0-4b09-987b-2250b2b90322",
   "metadata": {},
   "source": [
    "**Columns like cycles_per_instruction and memory_accesses_per_instruction offer little value when missing in almost all rows. These fields are likely telemetry data, and their near-total absence means the model would learn noise or constant values if we imputed them.**"
   ]
  },
  {
   "cell_type": "code",
   "execution_count": 7,
   "id": "a0498ffd-8012-4df1-9401-3d382aad7dac",
   "metadata": {},
   "outputs": [],
   "source": [
    "df.drop(['cycles_per_instruction', 'memory_accesses_per_instruction'], axis=1, inplace=True)"
   ]
  },
  {
   "cell_type": "markdown",
   "id": "fde6809a-499c-4d62-a416-cd878ce4588d",
   "metadata": {},
   "source": [
    "**We impute lower perentage of missing values with median. Median handles skewed distributions better than mean, avoids outlier influence, and preserves distribution shape for classifiers**"
   ]
  },
  {
   "cell_type": "code",
   "execution_count": 8,
   "id": "327d8e3f-f34e-4e04-8c0b-ef281698580c",
   "metadata": {},
   "outputs": [],
   "source": [
    "df['vertical_scaling'].fillna(df['vertical_scaling'].median(), inplace=True)"
   ]
  },
  {
   "cell_type": "markdown",
   "id": "b11da72a-c9dd-49b1-afb4-1d8e03531e90",
   "metadata": {},
   "source": [
    "**Mode imputation preserves categorical variable structure without introducing new categories.**"
   ]
  },
  {
   "cell_type": "code",
   "execution_count": 9,
   "id": "1b49162b-c556-413a-8a43-f935718b2c5d",
   "metadata": {},
   "outputs": [],
   "source": [
    "df['scheduler'].fillna(df['scheduler'].mode()[0], inplace=True)"
   ]
  },
  {
   "cell_type": "code",
   "execution_count": 10,
   "id": "dd9099a7-b7ca-4539-b296-f2cc58e6dd5a",
   "metadata": {},
   "outputs": [
    {
     "data": {
      "text/plain": [
       "Unnamed: 0                       0\n",
       "time                             0\n",
       "instance_events_type             0\n",
       "collection_id                    0\n",
       "scheduling_class                 0\n",
       "collection_type                  0\n",
       "priority                         0\n",
       "alloc_collection_id              0\n",
       "instance_index                   0\n",
       "machine_id                       0\n",
       "resource_request               774\n",
       "constraint                       0\n",
       "collections_events_type          0\n",
       "user                             0\n",
       "collection_name                  0\n",
       "collection_logical_name          0\n",
       "start_after_collection_ids       0\n",
       "vertical_scaling                 0\n",
       "scheduler                        0\n",
       "start_time                       0\n",
       "end_time                         0\n",
       "average_usage                    0\n",
       "maximum_usage                    0\n",
       "random_sample_usage              0\n",
       "assigned_memory                  0\n",
       "page_cache_memory                0\n",
       "sample_rate                      0\n",
       "cpu_usage_distribution           0\n",
       "tail_cpu_usage_distribution      0\n",
       "cluster                          0\n",
       "event                            0\n",
       "failed                           0\n",
       "dtype: int64"
      ]
     },
     "execution_count": 10,
     "metadata": {},
     "output_type": "execute_result"
    }
   ],
   "source": [
    "df.isnull().sum()"
   ]
  },
  {
   "cell_type": "code",
   "execution_count": 11,
   "id": "eb2d22a4-86b7-4a16-92d8-f6f92182ec3a",
   "metadata": {},
   "outputs": [],
   "source": [
    "import ast\n",
    "\n",
    "def safe_parse(val):\n",
    "    try:\n",
    "        return ast.literal_eval(val)\n",
    "    except:\n",
    "        return None  # Keep it None if parsing fails\n",
    "\n",
    "# Apply to full column — DO NOT dropna()\n",
    "df['resource_request'] = df['resource_request'].apply(safe_parse)"
   ]
  },
  {
   "cell_type": "code",
   "execution_count": 12,
   "id": "7d8c0814-31f8-4839-b214-91c0ed08c45d",
   "metadata": {},
   "outputs": [
    {
     "data": {
      "text/plain": [
       "0    {'cpus': 0.020660400390625, 'memory': 0.014434...\n",
       "1    {'cpus': 0.00724029541015625, 'memory': 0.0013...\n",
       "2    {'cpus': 0.048583984375, 'memory': 0.004165649...\n",
       "3    {'cpus': 0.0704345703125, 'memory': 0.04162597...\n",
       "4    {'cpus': 0.00244903564453125, 'memory': 0.0002...\n",
       "Name: resource_request, dtype: object"
      ]
     },
     "execution_count": 12,
     "metadata": {},
     "output_type": "execute_result"
    }
   ],
   "source": [
    "df['resource_request'].head()"
   ]
  },
  {
   "cell_type": "code",
   "execution_count": 13,
   "id": "3681602d-cfe4-42fb-9ee6-c64614eec5ac",
   "metadata": {},
   "outputs": [],
   "source": [
    "# Extract CPU and memory if parsed successfully\n",
    "df['resource_cpus'] = df['resource_request'].apply(lambda x: x.get('cpus') if isinstance(x, dict) else None)\n",
    "df['resource_memory'] = df['resource_request'].apply(lambda x: x.get('memory') if isinstance(x, dict) else None)"
   ]
  },
  {
   "cell_type": "code",
   "execution_count": 14,
   "id": "b790db68-4f49-4cda-9fbe-21cb9683c1fc",
   "metadata": {},
   "outputs": [],
   "source": [
    "# Impute the actual missing values\n",
    "df['resource_cpus'].fillna(df['resource_cpus'].median(), inplace=True)\n",
    "df['resource_memory'].fillna(df['resource_memory'].median(), inplace=True)"
   ]
  },
  {
   "cell_type": "code",
   "execution_count": 15,
   "id": "aed3a3ea-6124-47f7-a8d1-297e76ff4a0e",
   "metadata": {},
   "outputs": [],
   "source": [
    "# Drop original\n",
    "df.drop('resource_request', axis=1, inplace=True)"
   ]
  },
  {
   "cell_type": "code",
   "execution_count": 16,
   "id": "027d3caa-4b19-4ff5-977d-9b29cb804381",
   "metadata": {},
   "outputs": [
    {
     "data": {
      "text/plain": [
       "Unnamed: 0                     0\n",
       "time                           0\n",
       "instance_events_type           0\n",
       "collection_id                  0\n",
       "scheduling_class               0\n",
       "collection_type                0\n",
       "priority                       0\n",
       "alloc_collection_id            0\n",
       "instance_index                 0\n",
       "machine_id                     0\n",
       "constraint                     0\n",
       "collections_events_type        0\n",
       "user                           0\n",
       "collection_name                0\n",
       "collection_logical_name        0\n",
       "start_after_collection_ids     0\n",
       "vertical_scaling               0\n",
       "scheduler                      0\n",
       "start_time                     0\n",
       "end_time                       0\n",
       "average_usage                  0\n",
       "maximum_usage                  0\n",
       "random_sample_usage            0\n",
       "assigned_memory                0\n",
       "page_cache_memory              0\n",
       "sample_rate                    0\n",
       "cpu_usage_distribution         0\n",
       "tail_cpu_usage_distribution    0\n",
       "cluster                        0\n",
       "event                          0\n",
       "failed                         0\n",
       "resource_cpus                  0\n",
       "resource_memory                0\n",
       "dtype: int64"
      ]
     },
     "execution_count": 16,
     "metadata": {},
     "output_type": "execute_result"
    }
   ],
   "source": [
    "df.isnull().sum()"
   ]
  },
  {
   "cell_type": "markdown",
   "id": "9bfcdeba-0677-4dcf-87d6-471b41d79d5d",
   "metadata": {},
   "source": [
    "**Treating Date Time Dataset**"
   ]
  },
  {
   "cell_type": "code",
   "execution_count": 17,
   "id": "682d2307-29d7-46f2-8738-62798164b449",
   "metadata": {},
   "outputs": [],
   "source": [
    "df['start_time'] = pd.to_datetime(df['start_time'], errors='coerce')\n",
    "df['end_time'] = pd.to_datetime(df['end_time'], errors='coerce')"
   ]
  },
  {
   "cell_type": "code",
   "execution_count": 18,
   "id": "b20a3aed-b094-4d7d-9e6f-8b481af82f63",
   "metadata": {},
   "outputs": [],
   "source": [
    "df['duration_sec'] = (df['end_time'] - df['start_time']).dt.total_seconds()"
   ]
  },
  {
   "cell_type": "markdown",
   "id": "8613f7b4-0d5f-44e7-ad95-8bc64cd28e95",
   "metadata": {},
   "source": [
    "**One Hot Encoding**"
   ]
  },
  {
   "cell_type": "code",
   "execution_count": 19,
   "id": "287c9c53-d3d4-4745-9894-52839f764db6",
   "metadata": {},
   "outputs": [],
   "source": [
    "from sklearn.preprocessing import LabelEncoder\n",
    "label_cols = ['user', 'scheduler', 'cluster', 'scheduling_class', 'collection_type']\n",
    "for col in label_cols:\n",
    "    df[col] = LabelEncoder().fit_transform(df[col])"
   ]
  },
  {
   "cell_type": "markdown",
   "id": "51959ca4-10b3-4b68-b8d6-abc5fc3fe811",
   "metadata": {},
   "source": [
    "**Data Visualization**"
   ]
  },
  {
   "cell_type": "code",
   "execution_count": 20,
   "id": "cae80948-345a-4332-a556-28794b629164",
   "metadata": {},
   "outputs": [
    {
     "name": "stderr",
     "output_type": "stream",
     "text": [
      "Matplotlib is building the font cache; this may take a moment.\n"
     ]
    },
    {
     "data": {
      "image/png": "[encoded data removed]",
      "text/plain": [
       "<Figure size 640x480 with 1 Axes>"
      ]
     },
     "metadata": {},
     "output_type": "display_data"
    }
   ],
   "source": [
    "import matplotlib.pyplot as plt\n",
    "import seaborn as sns\n",
    "\n",
    "sns.countplot(x='failed', data=df, palette=['green', 'red'])\n",
    "plt.xticks([0, 1], ['Unfailed', 'Failed'])\n",
    "plt.title('Job Failure Distribution')\n",
    "plt.ylabel('Number of Jobs')\n",
    "plt.xlabel('Job Status')\n",
    "plt.show()\n"
   ]
  },
  {
   "cell_type": "code",
   "execution_count": 21,
   "id": "c41e778f-1d9e-4b47-a633-84e40d65d761",
   "metadata": {},
   "outputs": [
    {
     "data": {
      "text/plain": [
       "failed\n",
       "0    313216\n",
       "1     92678\n",
       "Name: count, dtype: int64"
      ]
     },
     "execution_count": 21,
     "metadata": {},
     "output_type": "execute_result"
    }
   ],
   "source": [
    "#Since in above figure we can see some imbalance, its better to checkthe count of failed jobs for treating the imbalance better\n",
    "df['failed'].value_counts()"
   ]
  },
  {
   "cell_type": "code",
   "execution_count": 22,
   "id": "3cb10aa0-7d37-4b03-b185-2aa3ac7bfb0f",
   "metadata": {},
   "outputs": [
    {
     "name": "stdout",
     "output_type": "stream",
     "text": [
      "Failed connection ratio: 22.83%\n"
     ]
    }
   ],
   "source": [
    "failed_ratio = 92678 / (313216 + 92678) * 100\n",
    "print(f\"Failed connection ratio: {failed_ratio:.2f}%\")"
   ]
  },
  {
   "cell_type": "markdown",
   "id": "59adc647-f9ac-4210-933c-3751d1f08ecf",
   "metadata": {},
   "source": [
    "## Choosing a baseline model"
   ]
  },
  {
   "cell_type": "code",
   "execution_count": 23,
   "id": "bf89d271-2506-4e7d-8eda-992d4a963990",
   "metadata": {},
   "outputs": [],
   "source": [
    "from sklearn.model_selection import train_test_split\n",
    "\n",
    "# Drop irrelevant columns\n",
    "X = df.drop(['failed', 'Unnamed: 0'], axis=1)\n",
    "y = df['failed']\n",
    "\n",
    "# Split the dataset\n",
    "X_train, X_test, y_train, y_test = train_test_split(\n",
    "    X, y, test_size=0.2, stratify=y, random_state=42\n",
    ")\n",
    "\n"
   ]
  },
  {
   "cell_type": "code",
   "execution_count": 24,
   "id": "e1350174-3c84-443d-ba39-f4fd6b797815",
   "metadata": {},
   "outputs": [
    {
     "data": {
      "text/plain": [
       "Unnamed: 0                              int64\n",
       "time                                    int64\n",
       "instance_events_type                    int64\n",
       "collection_id                           int64\n",
       "scheduling_class                        int64\n",
       "collection_type                         int64\n",
       "priority                                int64\n",
       "alloc_collection_id                     int64\n",
       "instance_index                          int64\n",
       "machine_id                              int64\n",
       "constraint                             object\n",
       "collections_events_type                 int64\n",
       "user                                    int64\n",
       "collection_name                        object\n",
       "collection_logical_name                object\n",
       "start_after_collection_ids             object\n",
       "vertical_scaling                      float64\n",
       "scheduler                               int64\n",
       "start_time                     datetime64[ns]\n",
       "end_time                       datetime64[ns]\n",
       "average_usage                          object\n",
       "maximum_usage                          object\n",
       "random_sample_usage                    object\n",
       "assigned_memory                       float64\n",
       "page_cache_memory                     float64\n",
       "sample_rate                           float64\n",
       "cpu_usage_distribution                 object\n",
       "tail_cpu_usage_distribution            object\n",
       "cluster                                 int64\n",
       "event                                  object\n",
       "failed                                  int64\n",
       "resource_cpus                         float64\n",
       "resource_memory                       float64\n",
       "duration_sec                          float64\n",
       "dtype: object"
      ]
     },
     "execution_count": 24,
     "metadata": {},
     "output_type": "execute_result"
    }
   ],
   "source": [
    "#we check dtypes as our model will not process non-numeric data and we need to treat them before our prediction\n",
    "df.dtypes"
   ]
  },
  {
   "cell_type": "code",
   "execution_count": 25,
   "id": "75a25518-8478-41f8-916c-a0f1563f49c3",
   "metadata": {},
   "outputs": [],
   "source": [
    "numeric_cols = ['average_usage', 'maximum_usage', 'random_sample_usage']\n",
    "for col in numeric_cols:\n",
    "    df[col] = pd.to_numeric(df[col], errors='coerce')"
   ]
  },
  {
   "cell_type": "markdown",
   "id": "5aca0724-b937-44fa-81cc-419c4aaf9377",
   "metadata": {},
   "source": [
    "We can drop columns unlikely to help prediction:"
   ]
  },
  {
   "cell_type": "code",
   "execution_count": 26,
   "id": "3d25512e-80f6-471f-8d5b-0616b1721b94",
   "metadata": {},
   "outputs": [],
   "source": [
    "df.drop(['constraint', 'collection_logical_name', 'collection_name',\n",
    "   \n",
    "         'start_after_collection_ids', 'cpu_usage_distribution',\n",
    "         'tail_cpu_usage_distribution'], axis=1, inplace=True)\n"
   ]
  },
  {
   "cell_type": "markdown",
   "id": "cf446510-d9fb-49a7-8d6a-eae49003fe93",
   "metadata": {},
   "source": [
    "Since event is a useful label,we apply label encoding"
   ]
  },
  {
   "cell_type": "code",
   "execution_count": 27,
   "id": "aab10900-a723-4e82-b62c-10e317946e60",
   "metadata": {},
   "outputs": [],
   "source": [
    "from sklearn.preprocessing import LabelEncoder\n",
    "df['event'] = LabelEncoder().fit_transform(df['event'].astype(str))\n"
   ]
  },
  {
   "cell_type": "code",
   "execution_count": 28,
   "id": "b3e397ae-1de6-44e0-b18a-540a39a5af6d",
   "metadata": {},
   "outputs": [
    {
     "name": "stdout",
     "output_type": "stream",
     "text": [
      "Still non-numeric columns: []\n"
     ]
    }
   ],
   "source": [
    "#confirming numeric dtypes\n",
    "non_numeric = df.drop(['failed'], axis=1).select_dtypes(include=['object'])\n",
    "print(\"Still non-numeric columns:\", non_numeric.columns.tolist())"
   ]
  },
  {
   "cell_type": "markdown",
   "id": "ba495098-0b37-4dc5-af6d-3ef2a07fd25e",
   "metadata": {},
   "source": [
    " RandomForestClassifier accepts purely numeric input (int/float) and cant process date time features"
   ]
  },
  {
   "cell_type": "code",
   "execution_count": 29,
   "id": "5c9ab260-1107-4f14-9b13-8bfefbf2a736",
   "metadata": {},
   "outputs": [],
   "source": [
    "#Feature Engineering from Timestamps\n",
    "# Hour of job start\n",
    "df['start_hour'] = df['start_time'].dt.hour\n",
    "\n",
    "# Day of week\n",
    "df['start_day'] = df['start_time'].dt.dayofweek\n",
    "\n",
    "# Time difference already calculated?\n",
    "df['duration_sec'] = (df['end_time'] - df['start_time']).dt.total_seconds()\n"
   ]
  },
  {
   "cell_type": "code",
   "execution_count": 30,
   "id": "181ad817-841d-42db-9c05-49a0cbf0e545",
   "metadata": {},
   "outputs": [],
   "source": [
    "df.drop(['start_time', 'end_time'], axis=1, inplace=True)"
   ]
  },
  {
   "cell_type": "code",
   "execution_count": 31,
   "id": "2541983e-8601-4160-8192-538a74fcaa04",
   "metadata": {},
   "outputs": [
    {
     "name": "stdout",
     "output_type": "stream",
     "text": [
      "              precision    recall  f1-score   support\n",
      "\n",
      "           0       1.00      1.00      1.00     62643\n",
      "           1       1.00      1.00      1.00     18536\n",
      "\n",
      "    accuracy                           1.00     81179\n",
      "   macro avg       1.00      1.00      1.00     81179\n",
      "weighted avg       1.00      1.00      1.00     81179\n",
      "\n"
     ]
    }
   ],
   "source": [
    "from sklearn.model_selection import train_test_split\n",
    "from sklearn.ensemble import RandomForestClassifier\n",
    "from sklearn.metrics import classification_report\n",
    "\n",
    "X = df.drop(['failed'], axis=1)\n",
    "y = df['failed']\n",
    "\n",
    "X_train, X_test, y_train, y_test = train_test_split(\n",
    "    X, y, test_size=0.2, stratify=y, random_state=42\n",
    ")\n",
    "\n",
    "rf = RandomForestClassifier(random_state=42, class_weight='balanced')\n",
    "rf.fit(X_train, y_train)\n",
    "\n",
    "y_pred = rf.predict(X_test)\n",
    "print(classification_report(y_test, y_pred))"
   ]
  },
  {
   "cell_type": "markdown",
   "id": "a58ecfd6-8dcc-4e5e-8695-dd8ec0142d9c",
   "metadata": {},
   "source": [
    "Cross Validation"
   ]
  },
  {
   "cell_type": "code",
   "execution_count": 32,
   "id": "e1155441-aee5-46e5-a5ec-a956513bffcd",
   "metadata": {},
   "outputs": [
    {
     "name": "stdout",
     "output_type": "stream",
     "text": [
      "F1-scores across folds: [1. 1. 1. 1. 1.]\n"
     ]
    }
   ],
   "source": [
    "from sklearn.model_selection import cross_val_score\n",
    "\n",
    "scores = cross_val_score(rf, X, y, cv=5, scoring='f1')\n",
    "print(f\"F1-scores across folds: {scores}\")"
   ]
  },
  {
   "cell_type": "markdown",
   "id": "da01e2d6-d744-4700-bead-f080c80896e3",
   "metadata": {},
   "source": [
    "## Possible Reasons for Unrealistic 100% F1-scores\n",
    "Example suspect features:\n",
    "\n",
    "event, constraint, collection_name, etc. — they might contain info about success/failure.\n",
    "\n",
    "duration_sec or any time-derived field — if failures always have short durations, this might leak the label.\n",
    "\n",
    "Any imputed column derived using failed indirectly (e.g., median computed separately for failed/unfailed jobs)."
   ]
  },
  {
   "cell_type": "code",
   "execution_count": 33,
   "id": "75e39129-6eb5-48c5-a7e1-d897bff575b8",
   "metadata": {},
   "outputs": [
    {
     "name": "stdout",
     "output_type": "stream",
     "text": [
      "failed                 1.000000\n",
      "scheduling_class       0.151676\n",
      "duration_sec           0.141775\n",
      "alloc_collection_id    0.124847\n",
      "priority               0.094215\n",
      "cluster                0.020874\n",
      "instance_index         0.005184\n",
      "time                  -0.001484\n",
      "Unnamed: 0            -0.001789\n",
      "machine_id            -0.008042\n",
      "Name: failed, dtype: float64\n"
     ]
    }
   ],
   "source": [
    "# Quick sanity check\n",
    "correlations = df.corr(numeric_only=True)['failed'].sort_values(ascending=False)\n",
    "print(correlations.head(10))\n"
   ]
  },
  {
   "cell_type": "markdown",
   "id": "0e4adc48-85c4-4392-aebb-4932ed0bea8e",
   "metadata": {},
   "source": [
    "## No Single Feature Has a Strong Linear Correlation\n",
    "The highest correlation with failed is 0.15 (scheduling_class). The feature duration_sec is only 0.14. Everything else is close to zero"
   ]
  },
  {
   "cell_type": "markdown",
   "id": "3d489751-364a-43c1-af82-e6d57c3c0619",
   "metadata": {},
   "source": [
    "Even if numeric features aren’t leaking, categorical features might encode the label in a hidden way."
   ]
  },
  {
   "cell_type": "code",
   "execution_count": 34,
   "id": "13bd6641-9ed2-4c6e-9939-3b3869e8952a",
   "metadata": {},
   "outputs": [
    {
     "data": {
      "text/plain": [
       "event\n",
       "2    1.0\n",
       "0    0.0\n",
       "1    0.0\n",
       "3    0.0\n",
       "4    0.0\n",
       "5    0.0\n",
       "6    0.0\n",
       "7    0.0\n",
       "8    0.0\n",
       "9    0.0\n",
       "Name: failed, dtype: float64"
      ]
     },
     "execution_count": 34,
     "metadata": {},
     "output_type": "execute_result"
    }
   ],
   "source": [
    "df.groupby('event')['failed'].mean().sort_values(ascending=False)\n"
   ]
  },
  {
   "cell_type": "markdown",
   "id": "3ddb3fd0-1094-4f41-8079-546e8fff7fb4",
   "metadata": {},
   "source": [
    "## Interpretation:\n",
    "Every row where event == 2 has failed == 1.And, all other event values lead to failed == 0.\n",
    "This means the model is simply learning the event column to determine the outcome. That’s classic target leakage. We will now drop this column"
   ]
  },
  {
   "cell_type": "code",
   "execution_count": 35,
   "id": "f6b5f6b2-3eec-4bdf-a6ce-441214e1bef6",
   "metadata": {},
   "outputs": [],
   "source": [
    "df.drop('event', axis=1, inplace=True)"
   ]
  },
  {
   "cell_type": "code",
   "execution_count": 36,
   "id": "8f0696fb-459e-4fcc-a6be-0e9043a8d117",
   "metadata": {},
   "outputs": [
    {
     "name": "stdout",
     "output_type": "stream",
     "text": [
      "Exact duplicates: 0\n"
     ]
    }
   ],
   "source": [
    "#check for duplicates\n",
    "print(f\"Exact duplicates: {df.duplicated().sum()}\")\n"
   ]
  },
  {
   "cell_type": "markdown",
   "id": "1c110c9b-5654-481f-94b6-65ba2bc05933",
   "metadata": {},
   "source": [
    "## Refitting the model again"
   ]
  },
  {
   "cell_type": "code",
   "execution_count": 37,
   "id": "41ad6ccf-ceec-46d7-95f4-8988b8e6eaff",
   "metadata": {},
   "outputs": [
    {
     "name": "stdout",
     "output_type": "stream",
     "text": [
      "int64      14\n",
      "float64    10\n",
      "int32       2\n",
      "Name: count, dtype: int64\n"
     ]
    }
   ],
   "source": [
    "#After re-adjusting our base data we will train the model again\n",
    "X = df.drop(columns=['failed'])  # or drop additional non-informative columns\n",
    "y = df['failed']\n",
    "\n",
    "# Check dtypes\n",
    "print(X.dtypes.value_counts())"
   ]
  },
  {
   "cell_type": "code",
   "execution_count": 38,
   "id": "26c891dc-36b7-47ed-81cc-89653cf4d0d2",
   "metadata": {},
   "outputs": [
    {
     "name": "stdout",
     "output_type": "stream",
     "text": [
      "              precision    recall  f1-score   support\n",
      "\n",
      "           0       1.00      1.00      1.00     62643\n",
      "           1       1.00      1.00      1.00     18536\n",
      "\n",
      "    accuracy                           1.00     81179\n",
      "   macro avg       1.00      1.00      1.00     81179\n",
      "weighted avg       1.00      1.00      1.00     81179\n",
      "\n",
      "[[62643     0]\n",
      " [    0 18536]]\n"
     ]
    }
   ],
   "source": [
    "from sklearn.model_selection import train_test_split\n",
    "from sklearn.ensemble import RandomForestClassifier\n",
    "from sklearn.metrics import classification_report, confusion_matrix\n",
    "\n",
    "# Split\n",
    "X_train, X_test, y_train, y_test = train_test_split(\n",
    "    X, y, test_size=0.2, stratify=y, random_state=42\n",
    ")\n",
    "\n",
    "# Train\n",
    "rf = RandomForestClassifier(class_weight='balanced', random_state=42)\n",
    "rf.fit(X_train, y_train)\n",
    "\n",
    "# Predict\n",
    "y_pred = rf.predict(X_test)\n",
    "\n",
    "# Evaluate\n",
    "print(classification_report(y_test, y_pred))\n",
    "print(confusion_matrix(y_test, y_pred))\n"
   ]
  },
  {
   "cell_type": "code",
   "execution_count": 39,
   "id": "32fcae68-b0ab-4ea1-8551-d495f5d72522",
   "metadata": {},
   "outputs": [
    {
     "data": {
      "image/png": "[encoded data removed]",
      "text/plain": [
       "<Figure size 640x480 with 1 Axes>"
      ]
     },
     "metadata": {},
     "output_type": "display_data"
    }
   ],
   "source": [
    "import pandas as pd\n",
    "import matplotlib.pyplot as plt\n",
    "\n",
    "feat_importances = pd.Series(rf.feature_importances_, index=X.columns)\n",
    "feat_importances.nlargest(10).plot(kind='barh')\n",
    "plt.title('Top 10 Feature Importances')\n",
    "plt.show()\n"
   ]
  },
  {
   "cell_type": "code",
   "execution_count": 40,
   "id": "123a0876-b7ed-4f5c-861a-209161650dde",
   "metadata": {},
   "outputs": [
    {
     "data": {
      "text/plain": [
       "0    0.020660\n",
       "1    0.007240\n",
       "2    0.048584\n",
       "3    0.070435\n",
       "4    0.002449\n",
       "5    0.061523\n",
       "6    0.005669\n",
       "7    0.022003\n",
       "8    0.008102\n",
       "9    0.097168\n",
       "Name: resource_cpus, dtype: float64"
      ]
     },
     "execution_count": 40,
     "metadata": {},
     "output_type": "execute_result"
    }
   ],
   "source": [
    "df.resource_cpus.head(10)"
   ]
  },
  {
   "cell_type": "code",
   "execution_count": 41,
   "id": "b02dd125-1a87-4b21-9972-77661523f986",
   "metadata": {},
   "outputs": [
    {
     "data": {
      "text/plain": [
       "0    0.014435\n",
       "1    0.001303\n",
       "2    0.004166\n",
       "3    0.041626\n",
       "4    0.000232\n",
       "5    0.005409\n",
       "6    0.001562\n",
       "7    0.001501\n",
       "8    0.003613\n",
       "9    0.006767\n",
       "Name: resource_memory, dtype: float64"
      ]
     },
     "execution_count": 41,
     "metadata": {},
     "output_type": "execute_result"
    }
   ],
   "source": [
    "df.resource_memory.head(10)"
   ]
  },
  {
   "cell_type": "markdown",
   "id": "afd41709-1327-4425-962a-70374cbed4c2",
   "metadata": {},
   "source": [
    "Our trained model was fit on many more features, and may not work properly with just 2. So we explicitly train it on 2 features and then call a function that applies the model over our input"
   ]
  },
  {
   "cell_type": "code",
   "execution_count": 42,
   "id": "382f022a-3540-42f6-861f-1ebd53abad31",
   "metadata": {},
   "outputs": [
    {
     "name": "stdout",
     "output_type": "stream",
     "text": [
      "              precision    recall  f1-score   support\n",
      "\n",
      "           0       0.94      0.75      0.83     62643\n",
      "           1       0.50      0.85      0.63     18536\n",
      "\n",
      "    accuracy                           0.77     81179\n",
      "   macro avg       0.72      0.80      0.73     81179\n",
      "weighted avg       0.84      0.77      0.79     81179\n",
      "\n"
     ]
    }
   ],
   "source": [
    "# Create a feature set with just 2 features\n",
    "X_small = df[['resource_cpus', 'resource_memory']]\n",
    "y = df['failed']\n",
    "\n",
    "from sklearn.model_selection import train_test_split\n",
    "X_train, X_test, y_train, y_test = train_test_split(\n",
    "    X_small, y, test_size=0.2, stratify=y, random_state=42\n",
    ")\n",
    "\n",
    "from sklearn.ensemble import RandomForestClassifier\n",
    "clf = RandomForestClassifier(random_state=42, class_weight='balanced')\n",
    "clf.fit(X_train, y_train)\n",
    "\n",
    "from sklearn.metrics import classification_report\n",
    "y_pred = clf.predict(X_test)\n",
    "print(classification_report(y_test, y_pred))\n"
   ]
  },
  {
   "cell_type": "code",
   "execution_count": 43,
   "id": "df2b2e97-843f-412f-bfe5-28fd7b9c5796",
   "metadata": {},
   "outputs": [],
   "source": [
    "y_probs = clf.predict_proba(X_test)[:, 1]  # Probabilities for class \"1\" (Failed)"
   ]
  },
  {
   "cell_type": "code",
   "execution_count": 44,
   "id": "e9cd60e3-99e7-4645-aeb8-796da1e31cd4",
   "metadata": {},
   "outputs": [
    {
     "data": {
      "image/png": "[encoded data removed]",
      "text/plain": [
       "<Figure size 800x600 with 1 Axes>"
      ]
     },
     "metadata": {},
     "output_type": "display_data"
    }
   ],
   "source": [
    "from sklearn.metrics import precision_recall_curve\n",
    "import matplotlib.pyplot as plt\n",
    "\n",
    "precision, recall, thresholds = precision_recall_curve(y_test, y_probs)\n",
    "\n",
    "plt.figure(figsize=(8, 6))\n",
    "plt.plot(thresholds, precision[:-1], label='Precision')\n",
    "plt.plot(thresholds, recall[:-1], label='Recall')\n",
    "plt.xlabel('Threshold')\n",
    "plt.ylabel('Score')\n",
    "plt.title('Precision and Recall vs. Threshold')\n",
    "plt.legend()\n",
    "plt.grid()\n",
    "plt.show()\n"
   ]
  },
  {
   "cell_type": "code",
   "execution_count": 45,
   "id": "c3e90aac-4bd6-4586-a547-dcccd9875c67",
   "metadata": {},
   "outputs": [
    {
     "name": "stdout",
     "output_type": "stream",
     "text": [
      "Best threshold for max F1-score: 0.58, F1-score: 0.66\n"
     ]
    }
   ],
   "source": [
    "from sklearn.metrics import f1_score\n",
    "import numpy as np\n",
    "\n",
    "best_threshold = 0\n",
    "best_f1 = 0\n",
    "\n",
    "for t in thresholds:\n",
    "    y_pred = (y_probs >= t).astype(int)\n",
    "    f1 = f1_score(y_test, y_pred)\n",
    "    if f1 > best_f1:\n",
    "        best_f1 = f1\n",
    "        best_threshold = t\n",
    "\n",
    "print(f\"Best threshold for max F1-score: {best_threshold:.2f}, F1-score: {best_f1:.2f}\")\n"
   ]
  },
  {
   "cell_type": "code",
   "execution_count": 46,
   "id": "8e669aee-4ebb-4bb8-a942-636a4699f3e9",
   "metadata": {},
   "outputs": [],
   "source": [
    "threshold = 0.58\n",
    "\n",
    "def predict_failure_verbose(cpus, memory, model, threshold=0.5):\n",
    "    input_df = pd.DataFrame([{\n",
    "        'resource_cpus': cpus,\n",
    "        'resource_memory': memory\n",
    "    }])\n",
    "    \n",
    "    prob = model.predict_proba(input_df)[0][1]\n",
    "    label = \"Failed\" if prob >= threshold else \"Not Failed\"\n",
    "    \n",
    "    return {\n",
    "        \"Label\": label,\n",
    "        \"Probability\": round(prob, 4)\n",
    "    }\n"
   ]
  },
  {
   "cell_type": "code",
   "execution_count": 48,
   "id": "82b288b6-155d-4134-b4a8-3949c758e08f",
   "metadata": {},
   "outputs": [
    {
     "data": {
      "text/plain": [
       "{'Label': 'Not Failed', 'Probability': 0.1417}"
      ]
     },
     "execution_count": 48,
     "metadata": {},
     "output_type": "execute_result"
    }
   ],
   "source": [
    "predict_failure_verbose(0.05, 0.01, clf)"
   ]
  },
  {
   "cell_type": "markdown",
   "id": "e7c1b593-e1bf-4e47-9862-6fb27db22fbd",
   "metadata": {},
   "source": [
    "## Testing XGBoost"
   ]
  },
  {
   "cell_type": "code",
   "execution_count": 49,
   "id": "9ca1342a-2012-4e56-8737-76ad6ba9b2be",
   "metadata": {},
   "outputs": [
    {
     "name": "stdout",
     "output_type": "stream",
     "text": [
      "Collecting xgboost\n",
      "  Downloading xgboost-3.0.2-py3-none-manylinux2014_x86_64.whl.metadata (2.0 kB)\n",
      "Requirement already satisfied: numpy in /home/ec2-user/anaconda3/envs/tensorflow2_p310/lib/python3.10/site-packages (from xgboost) (1.26.4)\n",
      "Requirement already satisfied: scipy in /home/ec2-user/anaconda3/envs/tensorflow2_p310/lib/python3.10/site-packages (from xgboost) (1.15.2)\n",
      "Downloading xgboost-3.0.2-py3-none-manylinux2014_x86_64.whl (4.9 MB)\n",
      "\u001b[2K   \u001b[90m━━━━━━━━━━━━━━━━━━━━━━━━━━━━━━━━━━━━━━━━\u001b[0m \u001b[32m4.9/4.9 MB\u001b[0m \u001b[31m149.6 MB/s\u001b[0m eta \u001b[36m0:00:00\u001b[0m\n",
      "\u001b[?25hInstalling collected packages: xgboost\n",
      "Successfully installed xgboost-3.0.2\n"
     ]
    }
   ],
   "source": [
    "!pip install xgboost"
   ]
  },
  {
   "cell_type": "code",
   "execution_count": 50,
   "id": "4732e2e1-b2d2-40da-ac6b-668e36ca9f8d",
   "metadata": {},
   "outputs": [],
   "source": [
    "import xgboost as xgb\n",
    "from sklearn.metrics import accuracy_score, classification_report, confusion_matrix, roc_auc_score\n",
    "\n",
    "# If not scaled before, we use unscaled data for XGBoost\n",
    "dtrain = xgb.DMatrix(X_train, label=y_train)\n",
    "dtest = xgb.DMatrix(X_test, label=y_test)\n"
   ]
  },
  {
   "cell_type": "code",
   "execution_count": 51,
   "id": "688ab411-ad24-4c5d-a77b-5e23ad5eb066",
   "metadata": {},
   "outputs": [],
   "source": [
    "params = {\n",
    "    'max_depth': 6,\n",
    "    'eta': 0.1,  # learning rate\n",
    "    'objective': 'binary:logistic',\n",
    "    'eval_metric': 'logloss'\n",
    "}\n"
   ]
  },
  {
   "cell_type": "code",
   "execution_count": 52,
   "id": "eefd3c8f-b953-478a-b170-dcbfb0af77f4",
   "metadata": {},
   "outputs": [],
   "source": [
    "xgb_model = xgb.train(\n",
    "    params,\n",
    "    dtrain,\n",
    "    num_boost_round=100,\n",
    "    evals=[(dtest, 'test')],\n",
    "    early_stopping_rounds=10,\n",
    "    verbose_eval=False\n",
    ")\n"
   ]
  },
  {
   "cell_type": "code",
   "execution_count": 53,
   "id": "6585fff3-48d8-4652-9cf7-99d3ffbac204",
   "metadata": {},
   "outputs": [
    {
     "name": "stdout",
     "output_type": "stream",
     "text": [
      "XGBoost Accuracy: 0.8186230429051848\n",
      "              precision    recall  f1-score   support\n",
      "\n",
      "           0       0.83      0.97      0.89     62643\n",
      "           1       0.74      0.32      0.44     18536\n",
      "\n",
      "    accuracy                           0.82     81179\n",
      "   macro avg       0.78      0.64      0.67     81179\n",
      "weighted avg       0.81      0.82      0.79     81179\n",
      "\n",
      "ROC AUC: 0.8472427976460121\n"
     ]
    }
   ],
   "source": [
    "y_pred_proba = xgb_model.predict(dtest)\n",
    "y_pred = (y_pred_proba > 0.5).astype(int)\n",
    "\n",
    "print(\"XGBoost Accuracy:\", accuracy_score(y_test, y_pred))\n",
    "print(classification_report(y_test, y_pred))\n",
    "print(\"ROC AUC:\", roc_auc_score(y_test, y_pred_proba))\n"
   ]
  },
  {
   "cell_type": "markdown",
   "id": "ce6c3c68-c501-4997-882b-e0a49ffe531a",
   "metadata": {},
   "source": [
    "While the model is accurate overall, its low recall on attacks suggests a bias toward the majority class which we saw in our earlier EDA stages, highlighting the need for class balancing or further tuning."
   ]
  },
  {
   "cell_type": "code",
   "execution_count": 54,
   "id": "47139962-8072-4b5b-a32f-a4ea531d2aad",
   "metadata": {},
   "outputs": [
    {
     "data": {
      "image/png": "[encoded data removed]",
      "text/plain": [
       "<Figure size 640x480 with 1 Axes>"
      ]
     },
     "metadata": {},
     "output_type": "display_data"
    }
   ],
   "source": [
    "import matplotlib.pyplot as plt\n",
    "\n",
    "xgb.plot_importance(xgb_model, max_num_features=10)\n",
    "plt.title(\"Top 10 Feature Importances\")\n",
    "plt.show()\n"
   ]
  }
 ],
 "metadata": {
  "kernelspec": {
   "display_name": "conda_tensorflow2_p310",
   "language": "python",
   "name": "conda_tensorflow2_p310"
  },
  "language_info": {
   "codemirror_mode": {
    "name": "ipython",
    "version": 3
   },
   "file_extension": ".py",
   "mimetype": "text/x-python",
   "name": "python",
   "nbconvert_exporter": "python",
   "pygments_lexer": "ipython3",
   "version": "3.10.18"
  }
 },
 "nbformat": 4,
 "nbformat_minor": 5
}

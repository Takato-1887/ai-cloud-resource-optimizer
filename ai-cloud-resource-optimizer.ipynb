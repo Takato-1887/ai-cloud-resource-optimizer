{
 "cells": [
  {
   "cell_type": "code",
   "execution_count": 1,
   "id": "cb7851db-93a4-440a-bb6a-4b0a39c2da67",
   "metadata": {},
   "outputs": [
    {
     "name": "stderr",
     "output_type": "stream",
     "text": [
      "/home/ec2-user/anaconda3/envs/tensorflow2_p310/lib/python3.10/site-packages/pandas/core/computation/expressions.py:21: UserWarning: Pandas requires version '2.8.4' or newer of 'numexpr' (version '2.7.3' currently installed).\n",
      "  from pandas.core.computation.check import NUMEXPR_INSTALLED\n"
     ]
    }
   ],
   "source": [
    "import boto3\n",
    "import pandas as pd\n",
    "from io import StringIO\n"
   ]
  },
  {
   "cell_type": "code",
   "execution_count": 2,
   "id": "5d63ee4f-b239-42e4-a287-5e0747b98a7c",
   "metadata": {},
   "outputs": [],
   "source": [
    "import warnings\n",
    "warnings.filterwarnings('ignore')"
   ]
  },
  {
   "cell_type": "code",
   "execution_count": 3,
   "id": "7e4ad9e3-da73-44f2-a994-3a2a361e82ad",
   "metadata": {},
   "outputs": [
    {
     "data": {
      "text/html": [
       "<div>\n",
       "<style scoped>\n",
       "    .dataframe tbody tr th:only-of-type {\n",
       "        vertical-align: middle;\n",
       "    }\n",
       "\n",
       "    .dataframe tbody tr th {\n",
       "        vertical-align: top;\n",
       "    }\n",
       "\n",
       "    .dataframe thead th {\n",
       "        text-align: right;\n",
       "    }\n",
       "</style>\n",
       "<table border=\"1\" class=\"dataframe\">\n",
       "  <thead>\n",
       "    <tr style=\"text-align: right;\">\n",
       "      <th></th>\n",
       "      <th>Unnamed: 0</th>\n",
       "      <th>time</th>\n",
       "      <th>instance_events_type</th>\n",
       "      <th>collection_id</th>\n",
       "      <th>scheduling_class</th>\n",
       "      <th>collection_type</th>\n",
       "      <th>priority</th>\n",
       "      <th>alloc_collection_id</th>\n",
       "      <th>instance_index</th>\n",
       "      <th>machine_id</th>\n",
       "      <th>...</th>\n",
       "      <th>assigned_memory</th>\n",
       "      <th>page_cache_memory</th>\n",
       "      <th>cycles_per_instruction</th>\n",
       "      <th>memory_accesses_per_instruction</th>\n",
       "      <th>sample_rate</th>\n",
       "      <th>cpu_usage_distribution</th>\n",
       "      <th>tail_cpu_usage_distribution</th>\n",
       "      <th>cluster</th>\n",
       "      <th>event</th>\n",
       "      <th>failed</th>\n",
       "    </tr>\n",
       "  </thead>\n",
       "  <tbody>\n",
       "    <tr>\n",
       "      <th>0</th>\n",
       "      <td>0</td>\n",
       "      <td>0</td>\n",
       "      <td>2</td>\n",
       "      <td>94591244395</td>\n",
       "      <td>3</td>\n",
       "      <td>1</td>\n",
       "      <td>200</td>\n",
       "      <td>0</td>\n",
       "      <td>144</td>\n",
       "      <td>168846390496</td>\n",
       "      <td>...</td>\n",
       "      <td>0.014435</td>\n",
       "      <td>0.000415</td>\n",
       "      <td>NaN</td>\n",
       "      <td>NaN</td>\n",
       "      <td>1.0</td>\n",
       "      <td>[0.00314331 0.00381088 0.00401306 0.00415039 0...</td>\n",
       "      <td>[0.00535583 0.00541687 0.00548553 0.00554657 0...</td>\n",
       "      <td>7</td>\n",
       "      <td>FAIL</td>\n",
       "      <td>1</td>\n",
       "    </tr>\n",
       "    <tr>\n",
       "      <th>1</th>\n",
       "      <td>1</td>\n",
       "      <td>2517305308183</td>\n",
       "      <td>2</td>\n",
       "      <td>260697606809</td>\n",
       "      <td>2</td>\n",
       "      <td>0</td>\n",
       "      <td>360</td>\n",
       "      <td>221495397286</td>\n",
       "      <td>335</td>\n",
       "      <td>85515092</td>\n",
       "      <td>...</td>\n",
       "      <td>0.000000</td>\n",
       "      <td>0.000000</td>\n",
       "      <td>NaN</td>\n",
       "      <td>NaN</td>\n",
       "      <td>1.0</td>\n",
       "      <td>[1.23977661e-05 1.23977661e-05 1.23977661e-05 ...</td>\n",
       "      <td>[1.23977661e-05 1.23977661e-05 1.23977661e-05 ...</td>\n",
       "      <td>7</td>\n",
       "      <td>FAIL</td>\n",
       "      <td>1</td>\n",
       "    </tr>\n",
       "    <tr>\n",
       "      <th>2</th>\n",
       "      <td>2</td>\n",
       "      <td>195684022913</td>\n",
       "      <td>6</td>\n",
       "      <td>276227177776</td>\n",
       "      <td>2</td>\n",
       "      <td>0</td>\n",
       "      <td>103</td>\n",
       "      <td>0</td>\n",
       "      <td>376</td>\n",
       "      <td>169321752432</td>\n",
       "      <td>...</td>\n",
       "      <td>0.010422</td>\n",
       "      <td>0.000235</td>\n",
       "      <td>0.939919</td>\n",
       "      <td>0.001318</td>\n",
       "      <td>1.0</td>\n",
       "      <td>[0.01344299 0.01809692 0.0201416  0.02246094 0...</td>\n",
       "      <td>[0.02902222 0.02929688 0.0295105  0.0296936  0...</td>\n",
       "      <td>7</td>\n",
       "      <td>SCHEDULE</td>\n",
       "      <td>0</td>\n",
       "    </tr>\n",
       "    <tr>\n",
       "      <th>3</th>\n",
       "      <td>3</td>\n",
       "      <td>0</td>\n",
       "      <td>2</td>\n",
       "      <td>10507389885</td>\n",
       "      <td>3</td>\n",
       "      <td>0</td>\n",
       "      <td>200</td>\n",
       "      <td>0</td>\n",
       "      <td>1977</td>\n",
       "      <td>178294817221</td>\n",
       "      <td>...</td>\n",
       "      <td>0.041626</td>\n",
       "      <td>0.000225</td>\n",
       "      <td>1.359102</td>\n",
       "      <td>0.007643</td>\n",
       "      <td>1.0</td>\n",
       "      <td>[0.03704834 0.04125977 0.04290771 0.04425049 0...</td>\n",
       "      <td>[0.05535889 0.05584717 0.05633545 0.05718994 0...</td>\n",
       "      <td>8</td>\n",
       "      <td>FAIL</td>\n",
       "      <td>1</td>\n",
       "    </tr>\n",
       "    <tr>\n",
       "      <th>4</th>\n",
       "      <td>4</td>\n",
       "      <td>1810627494172</td>\n",
       "      <td>3</td>\n",
       "      <td>25911621841</td>\n",
       "      <td>2</td>\n",
       "      <td>0</td>\n",
       "      <td>0</td>\n",
       "      <td>0</td>\n",
       "      <td>3907</td>\n",
       "      <td>231364893292</td>\n",
       "      <td>...</td>\n",
       "      <td>0.000272</td>\n",
       "      <td>0.000010</td>\n",
       "      <td>NaN</td>\n",
       "      <td>NaN</td>\n",
       "      <td>1.0</td>\n",
       "      <td>[0.         0.         0.         0.         0...</td>\n",
       "      <td>[0.00041485 0.00041485 0.00041485 0.00041485 0...</td>\n",
       "      <td>2</td>\n",
       "      <td>FINISH</td>\n",
       "      <td>0</td>\n",
       "    </tr>\n",
       "  </tbody>\n",
       "</table>\n",
       "<p>5 rows × 34 columns</p>\n",
       "</div>"
      ],
      "text/plain": [
       "   Unnamed: 0           time  instance_events_type  collection_id  \\\n",
       "0           0              0                     2    94591244395   \n",
       "1           1  2517305308183                     2   260697606809   \n",
       "2           2   195684022913                     6   276227177776   \n",
       "3           3              0                     2    10507389885   \n",
       "4           4  1810627494172                     3    25911621841   \n",
       "\n",
       "   scheduling_class  collection_type  priority  alloc_collection_id  \\\n",
       "0                 3                1       200                    0   \n",
       "1                 2                0       360         221495397286   \n",
       "2                 2                0       103                    0   \n",
       "3                 3                0       200                    0   \n",
       "4                 2                0         0                    0   \n",
       "\n",
       "   instance_index    machine_id  ... assigned_memory page_cache_memory  \\\n",
       "0             144  168846390496  ...        0.014435          0.000415   \n",
       "1             335      85515092  ...        0.000000          0.000000   \n",
       "2             376  169321752432  ...        0.010422          0.000235   \n",
       "3            1977  178294817221  ...        0.041626          0.000225   \n",
       "4            3907  231364893292  ...        0.000272          0.000010   \n",
       "\n",
       "   cycles_per_instruction memory_accesses_per_instruction sample_rate  \\\n",
       "0                     NaN                             NaN         1.0   \n",
       "1                     NaN                             NaN         1.0   \n",
       "2                0.939919                        0.001318         1.0   \n",
       "3                1.359102                        0.007643         1.0   \n",
       "4                     NaN                             NaN         1.0   \n",
       "\n",
       "                              cpu_usage_distribution  \\\n",
       "0  [0.00314331 0.00381088 0.00401306 0.00415039 0...   \n",
       "1  [1.23977661e-05 1.23977661e-05 1.23977661e-05 ...   \n",
       "2  [0.01344299 0.01809692 0.0201416  0.02246094 0...   \n",
       "3  [0.03704834 0.04125977 0.04290771 0.04425049 0...   \n",
       "4  [0.         0.         0.         0.         0...   \n",
       "\n",
       "                         tail_cpu_usage_distribution  cluster     event  \\\n",
       "0  [0.00535583 0.00541687 0.00548553 0.00554657 0...        7      FAIL   \n",
       "1  [1.23977661e-05 1.23977661e-05 1.23977661e-05 ...        7      FAIL   \n",
       "2  [0.02902222 0.02929688 0.0295105  0.0296936  0...        7  SCHEDULE   \n",
       "3  [0.05535889 0.05584717 0.05633545 0.05718994 0...        8      FAIL   \n",
       "4  [0.00041485 0.00041485 0.00041485 0.00041485 0...        2    FINISH   \n",
       "\n",
       "   failed  \n",
       "0       1  \n",
       "1       1  \n",
       "2       0  \n",
       "3       1  \n",
       "4       0  \n",
       "\n",
       "[5 rows x 34 columns]"
      ]
     },
     "execution_count": 3,
     "metadata": {},
     "output_type": "execute_result"
    }
   ],
   "source": [
    "bucket_name = 'clustertraces'\n",
    "file_key = 'borg_traces_data.csv'\n",
    "\n",
    "# Creating a boto3 client\n",
    "s3 = boto3.client('s3')\n",
    "\n",
    "# Object rtracing\n",
    "response = s3.get_object(Bucket=bucket_name, Key=file_key)\n",
    "\n",
    "# Load CSV\n",
    "csv_content = response['Body'].read().decode('utf-8')\n",
    "\n",
    "# Dataframe declaration\n",
    "df = pd.read_csv(StringIO(csv_content))\n",
    "\n",
    "\n",
    "df.head()"
   ]
  },
  {
   "cell_type": "code",
   "execution_count": 4,
   "id": "a95a03ed-a7d8-45ac-8c51-894e8cfdf222",
   "metadata": {},
   "outputs": [
    {
     "data": {
      "text/plain": [
       "(405894, 34)"
      ]
     },
     "execution_count": 4,
     "metadata": {},
     "output_type": "execute_result"
    }
   ],
   "source": [
    "df.shape"
   ]
  },
  {
   "cell_type": "code",
   "execution_count": 5,
   "id": "2ff95295-abcc-4159-b4ae-e4f503dc851c",
   "metadata": {},
   "outputs": [
    {
     "name": "stdout",
     "output_type": "stream",
     "text": [
      "<class 'pandas.core.frame.DataFrame'>\n",
      "RangeIndex: 405894 entries, 0 to 405893\n",
      "Data columns (total 34 columns):\n",
      " #   Column                           Non-Null Count   Dtype  \n",
      "---  ------                           --------------   -----  \n",
      " 0   Unnamed: 0                       405894 non-null  int64  \n",
      " 1   time                             405894 non-null  int64  \n",
      " 2   instance_events_type             405894 non-null  int64  \n",
      " 3   collection_id                    405894 non-null  int64  \n",
      " 4   scheduling_class                 405894 non-null  int64  \n",
      " 5   collection_type                  405894 non-null  int64  \n",
      " 6   priority                         405894 non-null  int64  \n",
      " 7   alloc_collection_id              405894 non-null  int64  \n",
      " 8   instance_index                   405894 non-null  int64  \n",
      " 9   machine_id                       405894 non-null  int64  \n",
      " 10  resource_request                 405120 non-null  object \n",
      " 11  constraint                       405894 non-null  object \n",
      " 12  collections_events_type          405894 non-null  int64  \n",
      " 13  user                             405894 non-null  object \n",
      " 14  collection_name                  405894 non-null  object \n",
      " 15  collection_logical_name          405894 non-null  object \n",
      " 16  start_after_collection_ids       405894 non-null  object \n",
      " 17  vertical_scaling                 404935 non-null  float64\n",
      " 18  scheduler                        404935 non-null  float64\n",
      " 19  start_time                       405894 non-null  int64  \n",
      " 20  end_time                         405894 non-null  int64  \n",
      " 21  average_usage                    405894 non-null  object \n",
      " 22  maximum_usage                    405894 non-null  object \n",
      " 23  random_sample_usage              405894 non-null  object \n",
      " 24  assigned_memory                  405894 non-null  float64\n",
      " 25  page_cache_memory                405894 non-null  float64\n",
      " 26  cycles_per_instruction           281206 non-null  float64\n",
      " 27  memory_accesses_per_instruction  281206 non-null  float64\n",
      " 28  sample_rate                      405894 non-null  float64\n",
      " 29  cpu_usage_distribution           405894 non-null  object \n",
      " 30  tail_cpu_usage_distribution      405894 non-null  object \n",
      " 31  cluster                          405894 non-null  int64  \n",
      " 32  event                            405894 non-null  object \n",
      " 33  failed                           405894 non-null  int64  \n",
      "dtypes: float64(7), int64(15), object(12)\n",
      "memory usage: 105.3+ MB\n"
     ]
    }
   ],
   "source": [
    "df.info()"
   ]
  },
  {
   "cell_type": "code",
   "execution_count": 6,
   "id": "370e4d4b-3c9b-443f-9ba1-2759c0665055",
   "metadata": {},
   "outputs": [
    {
     "data": {
      "text/plain": [
       "Unnamed: 0                              0\n",
       "time                                    0\n",
       "instance_events_type                    0\n",
       "collection_id                           0\n",
       "scheduling_class                        0\n",
       "collection_type                         0\n",
       "priority                                0\n",
       "alloc_collection_id                     0\n",
       "instance_index                          0\n",
       "machine_id                              0\n",
       "resource_request                      774\n",
       "constraint                              0\n",
       "collections_events_type                 0\n",
       "user                                    0\n",
       "collection_name                         0\n",
       "collection_logical_name                 0\n",
       "start_after_collection_ids              0\n",
       "vertical_scaling                      959\n",
       "scheduler                             959\n",
       "start_time                              0\n",
       "end_time                                0\n",
       "average_usage                           0\n",
       "maximum_usage                           0\n",
       "random_sample_usage                     0\n",
       "assigned_memory                         0\n",
       "page_cache_memory                       0\n",
       "cycles_per_instruction             124688\n",
       "memory_accesses_per_instruction    124688\n",
       "sample_rate                             0\n",
       "cpu_usage_distribution                  0\n",
       "tail_cpu_usage_distribution             0\n",
       "cluster                                 0\n",
       "event                                   0\n",
       "failed                                  0\n",
       "dtype: int64"
      ]
     },
     "execution_count": 6,
     "metadata": {},
     "output_type": "execute_result"
    }
   ],
   "source": [
    "df.isnull().sum()"
   ]
  },
  {
   "cell_type": "markdown",
   "id": "06c0be39-89b0-4b09-987b-2250b2b90322",
   "metadata": {},
   "source": [
    "**Columns like cycles_per_instruction and memory_accesses_per_instruction offer little value when missing in almost all rows. These fields are likely telemetry data, and their near-total absence means the model would learn noise or constant values if we imputed them.**"
   ]
  },
  {
   "cell_type": "code",
   "execution_count": 7,
   "id": "a0498ffd-8012-4df1-9401-3d382aad7dac",
   "metadata": {},
   "outputs": [],
   "source": [
    "df.drop(['cycles_per_instruction', 'memory_accesses_per_instruction'], axis=1, inplace=True)"
   ]
  },
  {
   "cell_type": "markdown",
   "id": "fde6809a-499c-4d62-a416-cd878ce4588d",
   "metadata": {},
   "source": [
    "**We impute lower perentage of missing values with median. Median handles skewed distributions better than mean, avoids outlier influence, and preserves distribution shape for classifiers**"
   ]
  },
  {
   "cell_type": "code",
   "execution_count": 8,
   "id": "327d8e3f-f34e-4e04-8c0b-ef281698580c",
   "metadata": {},
   "outputs": [],
   "source": [
    "df['vertical_scaling'].fillna(df['vertical_scaling'].median(), inplace=True)"
   ]
  },
  {
   "cell_type": "markdown",
   "id": "b11da72a-c9dd-49b1-afb4-1d8e03531e90",
   "metadata": {},
   "source": [
    "**Mode imputation preserves categorical variable structure without introducing new categories.**"
   ]
  },
  {
   "cell_type": "code",
   "execution_count": 9,
   "id": "1b49162b-c556-413a-8a43-f935718b2c5d",
   "metadata": {},
   "outputs": [],
   "source": [
    "df['scheduler'].fillna(df['scheduler'].mode()[0], inplace=True)"
   ]
  },
  {
   "cell_type": "code",
   "execution_count": 10,
   "id": "dd9099a7-b7ca-4539-b296-f2cc58e6dd5a",
   "metadata": {},
   "outputs": [
    {
     "data": {
      "text/plain": [
       "Unnamed: 0                       0\n",
       "time                             0\n",
       "instance_events_type             0\n",
       "collection_id                    0\n",
       "scheduling_class                 0\n",
       "collection_type                  0\n",
       "priority                         0\n",
       "alloc_collection_id              0\n",
       "instance_index                   0\n",
       "machine_id                       0\n",
       "resource_request               774\n",
       "constraint                       0\n",
       "collections_events_type          0\n",
       "user                             0\n",
       "collection_name                  0\n",
       "collection_logical_name          0\n",
       "start_after_collection_ids       0\n",
       "vertical_scaling                 0\n",
       "scheduler                        0\n",
       "start_time                       0\n",
       "end_time                         0\n",
       "average_usage                    0\n",
       "maximum_usage                    0\n",
       "random_sample_usage              0\n",
       "assigned_memory                  0\n",
       "page_cache_memory                0\n",
       "sample_rate                      0\n",
       "cpu_usage_distribution           0\n",
       "tail_cpu_usage_distribution      0\n",
       "cluster                          0\n",
       "event                            0\n",
       "failed                           0\n",
       "dtype: int64"
      ]
     },
     "execution_count": 10,
     "metadata": {},
     "output_type": "execute_result"
    }
   ],
   "source": [
    "df.isnull().sum()"
   ]
  },
  {
   "cell_type": "code",
   "execution_count": 11,
   "id": "eb2d22a4-86b7-4a16-92d8-f6f92182ec3a",
   "metadata": {},
   "outputs": [],
   "source": [
    "import ast\n",
    "\n",
    "def safe_parse(val):\n",
    "    try:\n",
    "        return ast.literal_eval(val)\n",
    "    except:\n",
    "        return None  # Keep it None if parsing fails\n",
    "\n",
    "# Apply to full column — DO NOT dropna()\n",
    "df['resource_request'] = df['resource_request'].apply(safe_parse)"
   ]
  },
  {
   "cell_type": "code",
   "execution_count": 12,
   "id": "7d8c0814-31f8-4839-b214-91c0ed08c45d",
   "metadata": {},
   "outputs": [
    {
     "data": {
      "text/plain": [
       "0    {'cpus': 0.020660400390625, 'memory': 0.014434...\n",
       "1    {'cpus': 0.00724029541015625, 'memory': 0.0013...\n",
       "2    {'cpus': 0.048583984375, 'memory': 0.004165649...\n",
       "3    {'cpus': 0.0704345703125, 'memory': 0.04162597...\n",
       "4    {'cpus': 0.00244903564453125, 'memory': 0.0002...\n",
       "Name: resource_request, dtype: object"
      ]
     },
     "execution_count": 12,
     "metadata": {},
     "output_type": "execute_result"
    }
   ],
   "source": [
    "df['resource_request'].head()"
   ]
  },
  {
   "cell_type": "code",
   "execution_count": 13,
   "id": "3681602d-cfe4-42fb-9ee6-c64614eec5ac",
   "metadata": {},
   "outputs": [],
   "source": [
    "# Extract CPU and memory if parsed successfully\n",
    "df['resource_cpus'] = df['resource_request'].apply(lambda x: x.get('cpus') if isinstance(x, dict) else None)\n",
    "df['resource_memory'] = df['resource_request'].apply(lambda x: x.get('memory') if isinstance(x, dict) else None)"
   ]
  },
  {
   "cell_type": "code",
   "execution_count": 14,
   "id": "b790db68-4f49-4cda-9fbe-21cb9683c1fc",
   "metadata": {},
   "outputs": [],
   "source": [
    "# Impute the actual missing values\n",
    "df['resource_cpus'].fillna(df['resource_cpus'].median(), inplace=True)\n",
    "df['resource_memory'].fillna(df['resource_memory'].median(), inplace=True)"
   ]
  },
  {
   "cell_type": "code",
   "execution_count": 15,
   "id": "aed3a3ea-6124-47f7-a8d1-297e76ff4a0e",
   "metadata": {},
   "outputs": [],
   "source": [
    "# Drop original\n",
    "df.drop('resource_request', axis=1, inplace=True)"
   ]
  },
  {
   "cell_type": "code",
   "execution_count": 16,
   "id": "027d3caa-4b19-4ff5-977d-9b29cb804381",
   "metadata": {},
   "outputs": [
    {
     "data": {
      "text/plain": [
       "Unnamed: 0                     0\n",
       "time                           0\n",
       "instance_events_type           0\n",
       "collection_id                  0\n",
       "scheduling_class               0\n",
       "collection_type                0\n",
       "priority                       0\n",
       "alloc_collection_id            0\n",
       "instance_index                 0\n",
       "machine_id                     0\n",
       "constraint                     0\n",
       "collections_events_type        0\n",
       "user                           0\n",
       "collection_name                0\n",
       "collection_logical_name        0\n",
       "start_after_collection_ids     0\n",
       "vertical_scaling               0\n",
       "scheduler                      0\n",
       "start_time                     0\n",
       "end_time                       0\n",
       "average_usage                  0\n",
       "maximum_usage                  0\n",
       "random_sample_usage            0\n",
       "assigned_memory                0\n",
       "page_cache_memory              0\n",
       "sample_rate                    0\n",
       "cpu_usage_distribution         0\n",
       "tail_cpu_usage_distribution    0\n",
       "cluster                        0\n",
       "event                          0\n",
       "failed                         0\n",
       "resource_cpus                  0\n",
       "resource_memory                0\n",
       "dtype: int64"
      ]
     },
     "execution_count": 16,
     "metadata": {},
     "output_type": "execute_result"
    }
   ],
   "source": [
    "df.isnull().sum()"
   ]
  },
  {
   "cell_type": "markdown",
   "id": "9bfcdeba-0677-4dcf-87d6-471b41d79d5d",
   "metadata": {},
   "source": [
    "**Treating Date Time Dataset**"
   ]
  },
  {
   "cell_type": "code",
   "execution_count": 17,
   "id": "682d2307-29d7-46f2-8738-62798164b449",
   "metadata": {},
   "outputs": [],
   "source": [
    "df['start_time'] = pd.to_datetime(df['start_time'], errors='coerce')\n",
    "df['end_time'] = pd.to_datetime(df['end_time'], errors='coerce')"
   ]
  },
  {
   "cell_type": "code",
   "execution_count": 18,
   "id": "b20a3aed-b094-4d7d-9e6f-8b481af82f63",
   "metadata": {},
   "outputs": [],
   "source": [
    "df['duration_sec'] = (df['end_time'] - df['start_time']).dt.total_seconds()"
   ]
  },
  {
   "cell_type": "markdown",
   "id": "8613f7b4-0d5f-44e7-ad95-8bc64cd28e95",
   "metadata": {},
   "source": [
    "**One Hot Encoding**"
   ]
  },
  {
   "cell_type": "code",
   "execution_count": 19,
   "id": "287c9c53-d3d4-4745-9894-52839f764db6",
   "metadata": {},
   "outputs": [],
   "source": [
    "from sklearn.preprocessing import LabelEncoder\n",
    "label_cols = ['user', 'scheduler', 'cluster', 'scheduling_class', 'collection_type']\n",
    "for col in label_cols:\n",
    "    df[col] = LabelEncoder().fit_transform(df[col])"
   ]
  },
  {
   "cell_type": "markdown",
   "id": "51959ca4-10b3-4b68-b8d6-abc5fc3fe811",
   "metadata": {},
   "source": [
    "**Data Visualization**"
   ]
  },
  {
   "cell_type": "code",
   "execution_count": null,
   "id": "cae80948-345a-4332-a556-28794b629164",
   "metadata": {},
   "outputs": [],
   "source": [
    "import matplotlib.pyplot as plt\n",
    "import seaborn as sns\n",
    "\n",
    "sns.countplot(x='failed', data=df, palette=['green', 'red'])\n",
    "plt.xticks([0, 1], ['Unfailed', 'Failed'])\n",
    "plt.title('Job Failure Distribution')\n",
    "plt.ylabel('Number of Jobs')\n",
    "plt.xlabel('Job Status')\n",
    "plt.show()\n"
   ]
  }
 ],
 "metadata": {
  "kernelspec": {
   "display_name": "conda_tensorflow2_p310",
   "language": "python",
   "name": "conda_tensorflow2_p310"
  },
  "language_info": {
   "codemirror_mode": {
    "name": "ipython",
    "version": 3
   },
   "file_extension": ".py",
   "mimetype": "text/x-python",
   "name": "python",
   "nbconvert_exporter": "python",
   "pygments_lexer": "ipython3",
   "version": "3.10.18"
  }
 },
 "nbformat": 4,
 "nbformat_minor": 5
}

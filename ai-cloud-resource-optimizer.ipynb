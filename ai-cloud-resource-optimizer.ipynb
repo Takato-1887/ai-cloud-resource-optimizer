{
 "cells": [
  {
   "cell_type": "code",
   "execution_count": 3,
   "id": "cb7851db-93a4-440a-bb6a-4b0a39c2da67",
   "metadata": {},
   "outputs": [],
   "source": [
    "import boto3\n",
    "import pandas as pd\n",
    "from io import StringIO\n"
   ]
  },
  {
   "cell_type": "code",
   "execution_count": 2,
   "id": "5d63ee4f-b239-42e4-a287-5e0747b98a7c",
   "metadata": {},
   "outputs": [],
   "source": [
    "import warnings\n",
    "warnings.filterwarnings('ignore')"
   ]
  },
  {
   "cell_type": "code",
   "execution_count": null,
   "id": "7e4ad9e3-da73-44f2-a994-3a2a361e82ad",
   "metadata": {},
   "outputs": [],
   "source": [
    "bucket_name = 'clustertraces'\n",
    "file_key = 'borg_traces_data.csv'\n",
    "\n",
    "# Creating a boto3 client\n",
    "s3 = boto3.client('s3')\n",
    "\n",
    "# Object rtracing\n",
    "response = s3.get_object(Bucket=bucket_name, Key=file_key)\n",
    "\n",
    "# Load CSV\n",
    "csv_content = response['Body'].read().decode('utf-8')\n",
    "\n",
    "# Dataframe declaration\n",
    "df = pd.read_csv(StringIO(csv_content))\n",
    "\n",
    "\n",
    "df.head()"
   ]
  },
  {
   "cell_type": "code",
   "execution_count": null,
   "id": "a95a03ed-a7d8-45ac-8c51-894e8cfdf222",
   "metadata": {},
   "outputs": [],
   "source": []
  }
 ],
 "metadata": {
  "kernelspec": {
   "display_name": "conda_tensorflow2_p310",
   "language": "python",
   "name": "conda_tensorflow2_p310"
  },
  "language_info": {
   "codemirror_mode": {
    "name": "ipython",
    "version": 3
   },
   "file_extension": ".py",
   "mimetype": "text/x-python",
   "name": "python",
   "nbconvert_exporter": "python",
   "pygments_lexer": "ipython3",
   "version": "3.10.18"
  }
 },
 "nbformat": 4,
 "nbformat_minor": 5
}
